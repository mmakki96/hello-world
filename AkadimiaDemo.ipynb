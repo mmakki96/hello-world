{
  "nbformat": 4,
  "nbformat_minor": 0,
  "metadata": {
    "colab": {
      "name": "AkadimiaDemo.ipynb",
      "provenance": [],
      "authorship_tag": "ABX9TyOo7KjF/LKz192gkNVh1yA/",
      "include_colab_link": true
    },
    "kernelspec": {
      "name": "python3",
      "display_name": "Python 3"
    },
    "language_info": {
      "name": "python"
    }
  },
  "cells": [
    {
      "cell_type": "markdown",
      "metadata": {
        "id": "view-in-github",
        "colab_type": "text"
      },
      "source": [
        "<a href=\"https://colab.research.google.com/github/mmakki96/hello-world/blob/main/AkadimiaDemo.ipynb\" target=\"_parent\"><img src=\"https://colab.research.google.com/assets/colab-badge.svg\" alt=\"Open In Colab\"/></a>"
      ]
    },
    {
      "cell_type": "code",
      "metadata": {
        "colab": {
          "base_uri": "https://localhost:8080/"
        },
        "id": "0MDGL1IFgOqL",
        "outputId": "5a3321d5-d049-411e-9a40-24cc59c1cab4"
      },
      "source": [
        "!pip install gradio -q"
      ],
      "execution_count": 3,
      "outputs": [
        {
          "output_type": "stream",
          "name": "stdout",
          "text": [
            "\u001b[K     |████████████████████████████████| 3.6 MB 8.9 MB/s \n",
            "\u001b[K     |████████████████████████████████| 206 kB 47.3 MB/s \n",
            "\u001b[K     |████████████████████████████████| 1.9 MB 38.4 MB/s \n",
            "\u001b[K     |████████████████████████████████| 63 kB 2.3 MB/s \n",
            "\u001b[K     |████████████████████████████████| 3.5 MB 35.1 MB/s \n",
            "\u001b[K     |████████████████████████████████| 961 kB 62.0 MB/s \n",
            "\u001b[?25h  Building wheel for ffmpy (setup.py) ... \u001b[?25l\u001b[?25hdone\n",
            "  Building wheel for flask-cachebuster (setup.py) ... \u001b[?25l\u001b[?25hdone\n"
          ]
        }
      ]
    },
    {
      "cell_type": "code",
      "metadata": {
        "id": "ZFCg-7yygSZD"
      },
      "source": [
        "import gradio as gr"
      ],
      "execution_count": 4,
      "outputs": []
    },
    {
      "cell_type": "code",
      "metadata": {
        "id": "9E7VbeE6gT1L"
      },
      "source": [
        "title = \"Akadimia Ai Demo\""
      ],
      "execution_count": 5,
      "outputs": []
    },
    {
      "cell_type": "code",
      "metadata": {
        "id": "Ph-GJOjPgWoj"
      },
      "source": [
        "description = \"Akadimia Ai is the worlds largest Ai Library, here is a demonstration of its predictive ABILITY!!! To use it, simply add your text, or click one of the examples to load them. Read more at the links below.\"\n",
        "article = \"<p style='text-align: center'><a href='https://instagram.com/akadimiaai/'>AKADIMIA AI WORLDS FIRST AI LIBRARY - Mohammed Makki</a></p>\""
      ],
      "execution_count": 6,
      "outputs": []
    },
    {
      "cell_type": "code",
      "metadata": {
        "id": "TL3e9E22gZVU"
      },
      "source": [
        "examples = [\n",
        "    ['The tower is 324 metres (1,063 ft) tall,'],\n",
        "    ['Nikola Tesla was known for'],\n",
        "    [\"The Moon's orbit around Earth has\"],\n",
        "    [\"The smooth Borealis basin in the Northern Hemisphere covers 40%\"]\n",
        "]"
      ],
      "execution_count": 7,
      "outputs": []
    },
    {
      "cell_type": "code",
      "metadata": {
        "colab": {
          "base_uri": "https://localhost:8080/",
          "height": 640
        },
        "id": "sWfBSTpPgZ72",
        "outputId": "08268a53-6de9-4dcb-bb6d-71d05569a6b9"
      },
      "source": [
        "gr.Interface.load(\"huggingface/EleutherAI/gpt-j-6B\", inputs=gr.inputs.Textbox(lines=5, label=\"Input Text\"),title=title,description=description,article=article, examples=examples,enable_queue=True).launch()"
      ],
      "execution_count": 8,
      "outputs": [
        {
          "output_type": "stream",
          "name": "stdout",
          "text": [
            "Colab notebook detected. To show errors in colab notebook, set `debug=True` in `launch()`\n",
            "This share link will expire in 72 hours. If you need a permanent link, visit: https://gradio.app/introducing-hosted\n",
            "Running on External URL: https://19214.gradio.app\n",
            "Interface loading below...\n"
          ]
        },
        {
          "output_type": "display_data",
          "data": {
            "text/html": [
              "\n",
              "        <iframe\n",
              "            width=\"900\"\n",
              "            height=\"500\"\n",
              "            src=\"https://19214.gradio.app\"\n",
              "            frameborder=\"0\"\n",
              "            allowfullscreen\n",
              "        ></iframe>\n",
              "        "
            ],
            "text/plain": [
              "<IPython.lib.display.IFrame at 0x7f70bf5c1710>"
            ]
          },
          "metadata": {}
        },
        {
          "output_type": "execute_result",
          "data": {
            "text/plain": [
              "(<Flask 'gradio.networking'>,\n",
              " 'http://127.0.0.1:7860/',\n",
              " 'https://19214.gradio.app')"
            ]
          },
          "metadata": {},
          "execution_count": 8
        }
      ]
    }
  ]
}